{
 "cells": [
  {
   "cell_type": "markdown",
   "id": "592f2ab1-ee58-4408-94eb-041240f4bb3d",
   "metadata": {},
   "source": [
    "# Explorative Analysis of the Younger Dataset"
   ]
  },
  {
   "cell_type": "code",
   "execution_count": 74,
   "id": "0f879751-0346-44e1-bd1b-6f45f916fe01",
   "metadata": {},
   "outputs": [],
   "source": [
    "import os\n",
    "import pathlib\n",
    "import networkx as nx\n",
    "from tqdm import tqdm\n",
    "import pickle as pkl\n",
    "\n",
    "import matplotlib.pyplot as plt\n",
    "\n",
    "from youngernns.data.network import Network\n",
    "\n",
    "from collections import Counter"
   ]
  },
  {
   "cell_type": "markdown",
   "id": "40131b1d-323c-43c7-b970-97e844de364a",
   "metadata": {},
   "source": [
    "## Global Variables"
   ]
  },
  {
   "cell_type": "code",
   "execution_count": 75,
   "id": "cb025f74-a21f-4f8a-b212-224fed877606",
   "metadata": {},
   "outputs": [],
   "source": [
    "DATA_PATH = os.path.join(\"..\",\"data\",\"filter_series_with_attributes_paper\")\n",
    "OUTPUT_DIR = os.path.join(\"..\", \"output\")"
   ]
  },
  {
   "cell_type": "markdown",
   "id": "a0e8de50-6aa4-4cb6-a6c6-29ea9e66fba4",
   "metadata": {},
   "source": [
    "## Loading Data"
   ]
  },
  {
   "cell_type": "code",
   "execution_count": 76,
   "id": "a85fb71d",
   "metadata": {},
   "outputs": [],
   "source": [
    "def get_graph_paths():\n",
    "    # find all paths for network folders DATA_PATH/gaphd_id/network/\n",
    "    graph_folders = []\n",
    "    for root, dirs, files in os.walk(DATA_PATH):\n",
    "        if 'network' in dirs:\n",
    "            graph_folders.append(os.path.join(root, 'network'))\n",
    "    return graph_folders"
   ]
  },
  {
   "cell_type": "code",
   "execution_count": 77,
   "id": "f669c3c2",
   "metadata": {},
   "outputs": [
    {
     "name": "stdout",
     "output_type": "stream",
     "text": [
      "Found 7629 graphs\n",
      "Example of first graph path: ../data/filter_series_with_attributes_paper/0ad2b9b313487b294428174cf56d7d22/network\n"
     ]
    }
   ],
   "source": [
    "graph_paths = get_graph_paths()\n",
    "print(f\"Found {len(graph_paths)} graphs\")\n",
    "print(f\"Example of first graph path: {graph_paths[0]}\")"
   ]
  },
  {
   "cell_type": "markdown",
   "id": "5437e2d9",
   "metadata": {},
   "source": [
    "Let's look at the first graph"
   ]
  },
  {
   "cell_type": "code",
   "execution_count": 78,
   "id": "fb51e2c0",
   "metadata": {},
   "outputs": [],
   "source": [
    "NN = Network()\n",
    "NN.load(pathlib.Path(graph_paths[0]))"
   ]
  },
  {
   "cell_type": "code",
   "execution_count": 79,
   "id": "abebbc17",
   "metadata": {},
   "outputs": [
    {
     "data": {
      "text/plain": [
       "{'operator': {'op_type': 'Transpose', 'domain': ''},\n",
       " 'attributes': {'perm': {'value': [0, 3, 1, 2],\n",
       "   'doc_string': '',\n",
       "   'attr_type': 7}},\n",
       " 'features': {'operator': {'op_type': 'Transpose', 'domain': ''},\n",
       "  'attributes': {'perm': (7, '[0, 3, 1, 2]')}}}"
      ]
     },
     "execution_count": 79,
     "metadata": {},
     "output_type": "execute_result"
    }
   ],
   "source": [
    "NN.graph.nodes(data=True)[\"0\"]"
   ]
  },
  {
   "cell_type": "code",
   "execution_count": 80,
   "id": "ba5e762e",
   "metadata": {},
   "outputs": [
    {
     "data": {
      "text/plain": [
       "NodeDataView({'0': {'operator': {'op_type': 'Transpose', 'domain': ''}, 'attributes': {'perm': {'value': [0, 3, 1, 2], 'doc_string': '', 'attr_type': 7}}, 'features': {'operator': {'op_type': 'Transpose', 'domain': ''}, 'attributes': {'perm': (7, '[0, 3, 1, 2]')}}}, '1': {'operator': {'op_type': 'Conv', 'domain': ''}, 'attributes': {'dilations': {'value': [1, 1], 'doc_string': '', 'attr_type': 7}, 'strides': {'value': [1, 1], 'doc_string': '', 'attr_type': 7}, 'kernel_shape': {'value': [3, 3], 'doc_string': '', 'attr_type': 7}, 'group': {'value': 1, 'doc_string': '', 'attr_type': 2}}, 'features': {'operator': {'op_type': 'Conv', 'domain': ''}, 'attributes': {'auto_pad': (3, \"b'NOTSET'\"), 'dilations': (7, '[1, 1]'), 'group': (2, '1'), 'kernel_shape': (7, '[3, 3]'), 'pads': (7, 'None'), 'strides': (7, '[1, 1]')}}}, '2': {'operator': {'op_type': 'Relu', 'domain': ''}, 'attributes': {}, 'features': {'operator': {'op_type': 'Relu', 'domain': ''}, 'attributes': {}}}, '3': {'operator': {'op_type': 'MaxPool', 'domain': ''}, 'attributes': {'strides': {'value': [2, 2], 'doc_string': '', 'attr_type': 7}, 'kernel_shape': {'value': [2, 2], 'doc_string': '', 'attr_type': 7}}, 'features': {'operator': {'op_type': 'MaxPool', 'domain': ''}, 'attributes': {'auto_pad': (3, \"b'NOTSET'\"), 'ceil_mode': (2, '0'), 'dilations': (7, 'None'), 'kernel_shape': (7, '[2, 2]'), 'pads': (7, 'None'), 'storage_order': (2, '0'), 'strides': (7, '[2, 2]')}}}, '4': {'operator': {'op_type': 'Conv', 'domain': ''}, 'attributes': {'dilations': {'value': [1, 1], 'doc_string': '', 'attr_type': 7}, 'strides': {'value': [1, 1], 'doc_string': '', 'attr_type': 7}, 'kernel_shape': {'value': [3, 3], 'doc_string': '', 'attr_type': 7}, 'group': {'value': 1, 'doc_string': '', 'attr_type': 2}}, 'features': {'operator': {'op_type': 'Conv', 'domain': ''}, 'attributes': {'auto_pad': (3, \"b'NOTSET'\"), 'dilations': (7, '[1, 1]'), 'group': (2, '1'), 'kernel_shape': (7, '[3, 3]'), 'pads': (7, 'None'), 'strides': (7, '[1, 1]')}}}, '5': {'operator': {'op_type': 'Relu', 'domain': ''}, 'attributes': {}, 'features': {'operator': {'op_type': 'Relu', 'domain': ''}, 'attributes': {}}}, '6': {'operator': {'op_type': 'MaxPool', 'domain': ''}, 'attributes': {'strides': {'value': [2, 2], 'doc_string': '', 'attr_type': 7}, 'kernel_shape': {'value': [2, 2], 'doc_string': '', 'attr_type': 7}}, 'features': {'operator': {'op_type': 'MaxPool', 'domain': ''}, 'attributes': {'auto_pad': (3, \"b'NOTSET'\"), 'ceil_mode': (2, '0'), 'dilations': (7, 'None'), 'kernel_shape': (7, '[2, 2]'), 'pads': (7, 'None'), 'storage_order': (2, '0'), 'strides': (7, '[2, 2]')}}}, '7': {'operator': {'op_type': 'Conv', 'domain': ''}, 'attributes': {'dilations': {'value': [1, 1], 'doc_string': '', 'attr_type': 7}, 'strides': {'value': [1, 1], 'doc_string': '', 'attr_type': 7}, 'kernel_shape': {'value': [3, 3], 'doc_string': '', 'attr_type': 7}, 'group': {'value': 1, 'doc_string': '', 'attr_type': 2}}, 'features': {'operator': {'op_type': 'Conv', 'domain': ''}, 'attributes': {'auto_pad': (3, \"b'NOTSET'\"), 'dilations': (7, '[1, 1]'), 'group': (2, '1'), 'kernel_shape': (7, '[3, 3]'), 'pads': (7, 'None'), 'strides': (7, '[1, 1]')}}}, '8': {'operator': {'op_type': 'Relu', 'domain': ''}, 'attributes': {}, 'features': {'operator': {'op_type': 'Relu', 'domain': ''}, 'attributes': {}}}, '9': {'operator': {'op_type': 'MaxPool', 'domain': ''}, 'attributes': {'strides': {'value': [2, 2], 'doc_string': '', 'attr_type': 7}, 'kernel_shape': {'value': [2, 2], 'doc_string': '', 'attr_type': 7}}, 'features': {'operator': {'op_type': 'MaxPool', 'domain': ''}, 'attributes': {'auto_pad': (3, \"b'NOTSET'\"), 'ceil_mode': (2, '0'), 'dilations': (7, 'None'), 'kernel_shape': (7, '[2, 2]'), 'pads': (7, 'None'), 'storage_order': (2, '0'), 'strides': (7, '[2, 2]')}}}, '10': {'operator': {'op_type': 'Transpose', 'domain': ''}, 'attributes': {'perm': {'value': [0, 2, 3, 1], 'doc_string': '', 'attr_type': 7}}, 'features': {'operator': {'op_type': 'Transpose', 'domain': ''}, 'attributes': {'perm': (7, '[0, 2, 3, 1]')}}}, '11': {'operator': {'op_type': 'Reshape', 'domain': ''}, 'attributes': {}, 'features': {'operator': {'op_type': 'Reshape', 'domain': ''}, 'attributes': {'allowzero': (2, '0')}}}, '12': {'operator': {'op_type': 'MatMul', 'domain': ''}, 'attributes': {}, 'features': {'operator': {'op_type': 'MatMul', 'domain': ''}, 'attributes': {}}}, '13': {'operator': {'op_type': 'Add', 'domain': ''}, 'attributes': {}, 'features': {'operator': {'op_type': 'Add', 'domain': ''}, 'attributes': {}}}, '14': {'operator': {'op_type': 'Relu', 'domain': ''}, 'attributes': {}, 'features': {'operator': {'op_type': 'Relu', 'domain': ''}, 'attributes': {}}}, '15': {'operator': {'op_type': 'MatMul', 'domain': ''}, 'attributes': {}, 'features': {'operator': {'op_type': 'MatMul', 'domain': ''}, 'attributes': {}}}, '16': {'operator': {'op_type': 'Add', 'domain': ''}, 'attributes': {}, 'features': {'operator': {'op_type': 'Add', 'domain': ''}, 'attributes': {}}}, '17': {'operator': {'op_type': 'Softmax', 'domain': ''}, 'attributes': {}, 'features': {'operator': {'op_type': 'Softmax', 'domain': ''}, 'attributes': {'axis': (2, '-1')}}}})"
      ]
     },
     "execution_count": 80,
     "metadata": {},
     "output_type": "execute_result"
    }
   ],
   "source": [
    "NN.graph.nodes(data=True)"
   ]
  },
  {
   "cell_type": "markdown",
   "id": "87d9dce0",
   "metadata": {},
   "source": [
    "Let's look at the graph operators"
   ]
  },
  {
   "cell_type": "code",
   "execution_count": 81,
   "id": "614c989a",
   "metadata": {},
   "outputs": [],
   "source": [
    "def get_graph_operator_types(graph):\n",
    "    for att in nx.get_node_attributes(graph, \"operator\").values():\n",
    "        yield att['op_type'] "
   ]
  },
  {
   "cell_type": "code",
   "execution_count": 82,
   "id": "463e87d7",
   "metadata": {},
   "outputs": [
    {
     "name": "stdout",
     "output_type": "stream",
     "text": [
      "Loaded 12396579 operator types\n"
     ]
    }
   ],
   "source": [
    "operators_pickle_path = os.path.join(OUTPUT_DIR, \"operator_types.pkl\")\n",
    "\n",
    "if not os.path.exists(operators_pickle_path):\n",
    "    operator_types = []\n",
    "\n",
    "    for graph_path in tqdm(graph_paths):\n",
    "        NN = Network()\n",
    "        NN.load(pathlib.Path(graph_path))\n",
    "        operator_types.extend(get_graph_operator_types(NN.graph))\n",
    "\n",
    "    if not os.path.exists(OUTPUT_DIR):\n",
    "        os.makedirs(OUTPUT_DIR)\n",
    "\n",
    "    with open(operators_pickle_path, \"wb\") as f:\n",
    "        pkl.dump(operator_types, f)\n",
    "    \n",
    "    print(f\"Saved {len(operator_types)} operator types\")\n",
    "    print(f\"Saved to {operators_pickle_path}\")\n",
    "else:\n",
    "    with open(operators_pickle_path, \"rb\") as f:\n",
    "        operator_types = pkl.load(f)\n",
    "        print(f\"Loaded {len(operator_types)} operator types\")"
   ]
  },
  {
   "cell_type": "code",
   "execution_count": 83,
   "id": "2af11785",
   "metadata": {},
   "outputs": [
    {
     "data": {
      "image/png": "[encoded data removed]",
      "text/plain": [
       "<Figure size 1500x500 with 1 Axes>"
      ]
     },
     "metadata": {},
     "output_type": "display_data"
    }
   ],
   "source": [
    "# plot histogram of top X operator types\n",
    "operator_types_counter = Counter(operator_types)\n",
    "top_x = 20\n",
    "top_x_operator_types = operator_types_counter.most_common(top_x)\n",
    "\n",
    "plt.figure(figsize=(15,5))\n",
    "plt.bar([x[0] for x in top_x_operator_types], [x[1] for x in top_x_operator_types])\n",
    "plt.xticks(rotation=45)\n",
    "plt.show()"
   ]
  },
  {
   "cell_type": "markdown",
   "id": "8f029a76",
   "metadata": {},
   "source": [
    "Let's look at the edges"
   ]
  },
  {
   "cell_type": "code",
   "execution_count": 84,
   "id": "7ee2357c",
   "metadata": {},
   "outputs": [
    {
     "name": "stdout",
     "output_type": "stream",
     "text": [
      "Edge (0, 1) has attributes {'connection': {'emit_index': 0, 'trap_index': 0}}\n",
      "Edge (1, 2) has attributes {'connection': {'emit_index': 0, 'trap_index': 0}}\n",
      "Edge (2, 3) has attributes {'connection': {'emit_index': 0, 'trap_index': 0}}\n",
      "Edge (3, 4) has attributes {'connection': {'emit_index': 0, 'trap_index': 0}}\n",
      "Edge (4, 5) has attributes {'connection': {'emit_index': 0, 'trap_index': 0}}\n",
      "Edge (5, 6) has attributes {'connection': {'emit_index': 0, 'trap_index': 0}}\n",
      "Edge (6, 7) has attributes {'connection': {'emit_index': 0, 'trap_index': 0}}\n",
      "Edge (7, 8) has attributes {'connection': {'emit_index': 0, 'trap_index': 0}}\n",
      "Edge (8, 9) has attributes {'connection': {'emit_index': 0, 'trap_index': 0}}\n",
      "Edge (9, 10) has attributes {'connection': {'emit_index': 0, 'trap_index': 0}}\n",
      "Edge (10, 11) has attributes {'connection': {'emit_index': 0, 'trap_index': 0}}\n",
      "Edge (11, 12) has attributes {'connection': {'emit_index': 0, 'trap_index': 0}}\n",
      "Edge (12, 13) has attributes {'connection': {'emit_index': 0, 'trap_index': 0}}\n",
      "Edge (13, 14) has attributes {'connection': {'emit_index': 0, 'trap_index': 0}}\n",
      "Edge (14, 15) has attributes {'connection': {'emit_index': 0, 'trap_index': 0}}\n",
      "Edge (15, 16) has attributes {'connection': {'emit_index': 0, 'trap_index': 0}}\n",
      "Edge (16, 17) has attributes {'connection': {'emit_index': 0, 'trap_index': 0}}\n"
     ]
    }
   ],
   "source": [
    "\n",
    "for u, v, data in NN.graph.edges(data=True):\n",
    "    print(f\"Edge ({u}, {v}) has attributes {data}\")"
   ]
  },
  {
   "cell_type": "markdown",
   "id": "35c215a8",
   "metadata": {},
   "source": [
    "# Check for Graphs with No Nodes"
   ]
  },
  {
   "cell_type": "code",
   "execution_count": 85,
   "id": "4a04f9ec",
   "metadata": {},
   "outputs": [
    {
     "name": "stderr",
     "output_type": "stream",
     "text": [
      "100%|██████████| 7629/7629 [01:57<00:00, 64.99it/s] "
     ]
    },
    {
     "name": "stdout",
     "output_type": "stream",
     "text": [
      "Found 1 empty graph(s)\n"
     ]
    },
    {
     "name": "stderr",
     "output_type": "stream",
     "text": [
      "\n"
     ]
    }
   ],
   "source": [
    "empty_graph_idxs = []\n",
    "\n",
    "# Find graphs with no nodes\n",
    "for i, graph_path in tqdm(enumerate(graph_paths), total=len(graph_paths)):\n",
    "    NN = Network()\n",
    "    NN.load(pathlib.Path(graph_path))\n",
    "    if len(NN.graph.nodes) == 0:\n",
    "        empty_graph_idxs.append(i)\n",
    "\n",
    "print(f\"Found {len(empty_graph_idxs)} empty graph(s)\")"
   ]
  },
  {
   "cell_type": "code",
   "execution_count": 86,
   "id": "6e8fd277",
   "metadata": {},
   "outputs": [
    {
     "name": "stdout",
     "output_type": "stream",
     "text": [
      "[1307]\n"
     ]
    }
   ],
   "source": [
    "print(empty_graph_idxs)"
   ]
  },
  {
   "cell_type": "markdown",
   "id": "937ac6c2",
   "metadata": {},
   "source": [
    "Let's look at the empty graph"
   ]
  },
  {
   "cell_type": "code",
   "execution_count": 87,
   "id": "9192c783",
   "metadata": {},
   "outputs": [],
   "source": [
    "empty_graph = Network()\n",
    "empty_graph.load(pathlib.Path(graph_paths[empty_graph_idxs[0]]))\n"
   ]
  },
  {
   "cell_type": "code",
   "execution_count": 88,
   "id": "7e889daf",
   "metadata": {},
   "outputs": [
    {
     "data": {
      "text/plain": [
       "NodeDataView({})"
      ]
     },
     "execution_count": 88,
     "metadata": {},
     "output_type": "execute_result"
    }
   ],
   "source": [
    "empty_graph.graph.nodes(data=True)"
   ]
  },
  {
   "cell_type": "code",
   "execution_count": 89,
   "id": "e7dc23be",
   "metadata": {},
   "outputs": [
    {
     "data": {
      "text/plain": [
       "OutEdgeDataView([])"
      ]
     },
     "execution_count": 89,
     "metadata": {},
     "output_type": "execute_result"
    }
   ],
   "source": [
    "empty_graph.graph.edges(data=True)"
   ]
  },
  {
   "cell_type": "code",
   "execution_count": 90,
   "id": "00af9aa3",
   "metadata": {},
   "outputs": [
    {
     "data": {
      "image/png": "[encoded data removed]",
      "text/plain": [
       "<Figure size 640x480 with 1 Axes>"
      ]
     },
     "metadata": {},
     "output_type": "display_data"
    }
   ],
   "source": [
    "# plot the graph\n",
    "nx.draw(empty_graph.graph, with_labels=True, font_weight='bold')"
   ]
  },
  {
   "cell_type": "markdown",
   "id": "946be28f",
   "metadata": {},
   "source": [
    "Let's remove it"
   ]
  },
  {
   "cell_type": "code",
   "execution_count": 91,
   "id": "1caea304",
   "metadata": {},
   "outputs": [
    {
     "name": "stdout",
     "output_type": "stream",
     "text": [
      "Removing empty graph at index 1307\n",
      "Number of graphs before: 7629\n",
      "Number of graphs after: 7628\n"
     ]
    }
   ],
   "source": [
    "print(f\"Removing empty graph at index {empty_graph_idxs[0]}\")\n",
    "print(f\"Number of graphs before: {len(graph_paths)}\")\n",
    "graph_paths.pop(empty_graph_idxs[0])\n",
    "print(f\"Number of graphs after: {len(graph_paths)}\")"
   ]
  },
  {
   "cell_type": "markdown",
   "id": "29a64bda",
   "metadata": {},
   "source": [
    "## Check for Trees\n",
    "Let's see how many of the graphs a trees.\n",
    "A graph is a tree if it has a single root node and the in degree of all remaining nodes is one.\n",
    "We do this because if a graph is a tree we might be able to do some things faster or use other algorithms."
   ]
  },
  {
   "cell_type": "code",
   "execution_count": 92,
   "id": "0c4d2640",
   "metadata": {},
   "outputs": [
    {
     "name": "stderr",
     "output_type": "stream",
     "text": [
      "100%|██████████| 7628/7628 [01:56<00:00, 65.24it/s] "
     ]
    },
    {
     "name": "stdout",
     "output_type": "stream",
     "text": [
      "Counted trees: 498/7628\n"
     ]
    },
    {
     "name": "stderr",
     "output_type": "stream",
     "text": [
      "\n"
     ]
    }
   ],
   "source": [
    "# Save trees to tree_list and other to other_list\n",
    "tree_idxs = [] \n",
    "\n",
    "for i, graph_path in tqdm(enumerate(graph_paths), total=len(graph_paths)):\n",
    "    NN = Network()\n",
    "    NN.load(pathlib.Path(graph_path))\n",
    "    if nx.is_tree(NN.graph):\n",
    "        tree_idxs.append(i)\n",
    "\n",
    "print(f\"Counted trees: {len(tree_idxs)}/{len(graph_paths)}\")"
   ]
  },
  {
   "cell_type": "markdown",
   "id": "60398fa4",
   "metadata": {},
   "source": [
    "## Let's Analyize the Topology of the Graphs"
   ]
  },
  {
   "cell_type": "markdown",
   "id": "d20d260f",
   "metadata": {},
   "source": [
    "### Depth Analysis"
   ]
  },
  {
   "cell_type": "code",
   "execution_count": 93,
   "id": "1df150ea",
   "metadata": {},
   "outputs": [
    {
     "name": "stderr",
     "output_type": "stream",
     "text": [
      " 49%|████▊     | 3704/7628 [01:24<01:01, 63.72it/s] Exception ignored in: <bound method IPythonKernel._clean_thread_parent_frames of <ipykernel.ipkernel.IPythonKernel object at 0x7dd88d2873b0>>\n",
      "Traceback (most recent call last):\n",
      "  File \"/home/wdm/YoungerNNs/.venv/lib/python3.12/site-packages/ipykernel/ipkernel.py\", line 775, in _clean_thread_parent_frames\n",
      "    def _clean_thread_parent_frames(\n",
      "\n",
      "KeyboardInterrupt: \n",
      "100%|██████████| 7628/7628 [03:16<00:00, 38.80it/s]\n"
     ]
    }
   ],
   "source": [
    "#Analyze depth of the graphs\n",
    "depths = []\n",
    "for graph_path in tqdm(graph_paths):\n",
    "    NN = Network()\n",
    "    NN.load(pathlib.Path(graph_path))\n",
    "    depths.append(nx.dag_longest_path_length(NN.graph))"
   ]
  },
  {
   "cell_type": "code",
   "execution_count": 94,
   "id": "c4234956",
   "metadata": {},
   "outputs": [
    {
     "name": "stdout",
     "output_type": "stream",
     "text": [
      "Max depth: 38414\n",
      "Min depth: 0\n"
     ]
    }
   ],
   "source": [
    "print(f\"Max depth: {max(depths)}\")\n",
    "print(f\"Min depth: {min(depths)}\")"
   ]
  },
  {
   "cell_type": "code",
   "execution_count": 103,
   "id": "d4163648",
   "metadata": {},
   "outputs": [
    {
     "name": "stdout",
     "output_type": "stream",
     "text": [
      "Depth 38414: 1\n",
      "Depth 21961: 1\n",
      "Depth 21173: 1\n",
      "Depth 6854: 1\n",
      "Depth 6848: 1\n",
      "Depth 6840: 1\n",
      "Depth 6834: 1\n",
      "Depth 6396: 1\n",
      "Depth 6394: 1\n",
      "Depth 6392: 2\n"
     ]
    }
   ],
   "source": [
    "# Count depths\n",
    "depth_counter = Counter(depths)\n",
    "\n",
    "# sort depths descending\n",
    "depths_keys = list(depth_counter.keys())\n",
    "depths_keys.sort(reverse=True)\n",
    "\n",
    "# print top X max depths\n",
    "top_x = 10\n",
    "top_x_depths = depths_keys[:top_x]\n",
    "\n",
    "for dpt in top_x_depths:\n",
    "    print(f\"Depth {dpt}: {depth_counter[dpt]}\")"
   ]
  },
  {
   "cell_type": "code",
   "execution_count": 113,
   "id": "2ceac521",
   "metadata": {},
   "outputs": [
    {
     "data": {
      "image/png": "[encoded data removed]",
      "text/plain": [
       "<Figure size 1500x500 with 1 Axes>"
      ]
     },
     "metadata": {},
     "output_type": "display_data"
    }
   ],
   "source": [
    "# Plot depth distribution\n",
    "plt.figure(figsize=(15,5))\n",
    "plt.bar(*zip(*sorted(depth_counter.items())))\n",
    "plt.xticks(rotation=45)\n",
    "plt.show()"
   ]
  },
  {
   "cell_type": "code",
   "execution_count": 117,
   "id": "88448135",
   "metadata": {},
   "outputs": [
    {
     "data": {
      "image/png": "[encoded data removed]",
      "text/plain": [
       "<Figure size 1500x500 with 1 Axes>"
      ]
     },
     "metadata": {},
     "output_type": "display_data"
    }
   ],
   "source": [
    "# Plot X first depth count distribution\n",
    "X = 1750\n",
    "plt.figure(figsize=(15,5))\n",
    "plt.bar(*zip(*sorted(depth_counter.items())[:X]))\n",
    "plt.xticks(rotation=45)\n",
    "plt.show()"
   ]
  },
  {
   "cell_type": "markdown",
   "id": "7020aa9a",
   "metadata": {},
   "source": [
    "### Width Analysis"
   ]
  },
  {
   "cell_type": "code",
   "execution_count": 124,
   "id": "040ef751",
   "metadata": {},
   "outputs": [
    {
     "name": "stderr",
     "output_type": "stream",
     "text": [
      "100%|██████████| 7628/7628 [02:05<00:00, 60.75it/s] \n"
     ]
    }
   ],
   "source": [
    "# Analyze width of the graphs\n",
    "widths = []\n",
    "for graph_path in tqdm(graph_paths):\n",
    "    NN = Network()\n",
    "    NN.load(pathlib.Path(graph_path))\n",
    "\n",
    "    # Find the number of children for each node\n",
    "    children = {node: 0 for node in NN.graph.nodes}\n",
    "\n",
    "    for u, v, data in NN.graph.edges(data=True):\n",
    "        children[v] += 1\n",
    "\n",
    "    widths.extend(list(children.values()))"
   ]
  },
  {
   "cell_type": "code",
   "execution_count": 126,
   "id": "b9a0ac66",
   "metadata": {},
   "outputs": [
    {
     "name": "stdout",
     "output_type": "stream",
     "text": [
      "Width 5278: 5\n",
      "Width 5000: 5\n",
      "Width 100: 2\n",
      "Width 90: 31\n",
      "Width 80: 27\n",
      "Width 64: 34\n",
      "Width 53: 5\n",
      "Width 49: 2\n",
      "Width 48: 74\n",
      "Width 47: 2\n"
     ]
    }
   ],
   "source": [
    "# Count depths\n",
    "width_counter = Counter(widths)\n",
    "\n",
    "# sort depths descending\n",
    "widths_keys = list(width_counter.keys())\n",
    "widths_keys.sort(reverse=True)\n",
    "\n",
    "# print top X max depths\n",
    "top_x = 10\n",
    "top_x_widths = widths_keys[:top_x]\n",
    "\n",
    "for wdt in top_x_widths:\n",
    "    print(f\"Width {wdt}: {width_counter[wdt]}\")"
   ]
  },
  {
   "cell_type": "code",
   "execution_count": 127,
   "id": "bfdec35e",
   "metadata": {},
   "outputs": [
    {
     "data": {
      "image/png": "[encoded data removed]",
      "text/plain": [
       "<Figure size 1500x500 with 1 Axes>"
      ]
     },
     "metadata": {},
     "output_type": "display_data"
    }
   ],
   "source": [
    "# Plot depth distribution\n",
    "plt.figure(figsize=(15,5))\n",
    "plt.bar(*zip(*sorted(width_counter.items())))\n",
    "plt.xticks(rotation=45)\n",
    "plt.show()"
   ]
  },
  {
   "cell_type": "code",
   "execution_count": 140,
   "id": "20e9d846",
   "metadata": {},
   "outputs": [
    {
     "data": {
      "image/png": "[encoded data removed]",
      "text/plain": [
       "<Figure size 1500x500 with 1 Axes>"
      ]
     },
     "metadata": {},
     "output_type": "display_data"
    }
   ],
   "source": [
    "# Plot X first depth count distribution\n",
    "X = 10\n",
    "plt.figure(figsize=(15,5))\n",
    "plt.bar(*zip(*sorted(width_counter.items())[:X]))\n",
    "plt.xticks(rotation=45)\n",
    "plt.show()"
   ]
  },
  {
   "cell_type": "code",
   "execution_count": null,
   "id": "d587193c",
   "metadata": {},
   "outputs": [],
   "source": []
  }
 ],
 "metadata": {
  "kernelspec": {
   "display_name": ".venv",
   "language": "python",
   "name": "python3"
  },
  "language_info": {
   "codemirror_mode": {
    "name": "ipython",
    "version": 3
   },
   "file_extension": ".py",
   "mimetype": "text/x-python",
   "name": "python",
   "nbconvert_exporter": "python",
   "pygments_lexer": "ipython3",
   "version": "3.12.6"
  }
 },
 "nbformat": 4,
 "nbformat_minor": 5
}
